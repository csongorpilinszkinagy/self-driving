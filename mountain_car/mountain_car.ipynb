{
 "cells": [
  {
   "cell_type": "code",
   "execution_count": null,
   "metadata": {},
   "outputs": [],
   "source": [
    "import numpy as np\n",
    "import gymnasium as gym\n",
    "from gymnasium.utils.save_video import save_video, capped_cubic_video_schedule\n",
    "from progressbar import progressbar\n",
    "import matplotlib.pyplot as plt"
   ]
  },
  {
   "cell_type": "code",
   "execution_count": null,
   "metadata": {},
   "outputs": [],
   "source": [
    "env = gym.make('MountainCar-v0')"
   ]
  },
  {
   "cell_type": "code",
   "execution_count": null,
   "metadata": {},
   "outputs": [],
   "source": [
    "position_count = 32\n",
    "velocity_count = 32\n",
    "action_space = 3\n",
    "\n",
    "position_space = (-1.2, 0.6)\n",
    "position_bins = np.linspace(*position_space, position_count)\n",
    "\n",
    "velocity_space = (-0.07, 0.07)\n",
    "velocity_bins = np.linspace(*velocity_space, velocity_count)"
   ]
  },
  {
   "cell_type": "code",
   "execution_count": null,
   "metadata": {},
   "outputs": [],
   "source": [
    "Q = np.zeros(shape=(position_count, velocity_count, action_space))"
   ]
  },
  {
   "cell_type": "code",
   "execution_count": null,
   "metadata": {},
   "outputs": [],
   "source": [
    "def get_state(observation):\n",
    "    position, velocity = observation\n",
    "    return np.digitize(position, position_bins)-1, np.digitize(velocity, velocity_bins)-1"
   ]
  },
  {
   "cell_type": "code",
   "execution_count": null,
   "metadata": {},
   "outputs": [],
   "source": [
    "number_of_episodes = 5000\n",
    "max_steps = 1000\n",
    "\n",
    "alpha = 0.1\n",
    "epsilon = 1.0\n",
    "gamma = 0.99\n",
    "\n",
    "step_sum = 0\n",
    "\n",
    "rewards = []\n",
    "\n",
    "for episode in progressbar(range(number_of_episodes)):\n",
    "    record = capped_cubic_video_schedule(episode)\n",
    "    if record:\n",
    "        env = gym.make('MountainCar-v0', render_mode='rgb_array_list')\n",
    "\n",
    "    observation, _ = env.reset()\n",
    "    state = get_state(observation)\n",
    "\n",
    "    if epsilon > 0.01: epsilon -= 2/number_of_episodes\n",
    "    reward_sum = 0\n",
    "\n",
    "    for step in range(max_steps):\n",
    "        if np.random.random() < epsilon:\n",
    "            action = env.action_space.sample()\n",
    "        else:\n",
    "            action = np.argmax(Q[state])\n",
    "        \n",
    "        new_observation, reward, terminated, truncated, _ = env.step(action)\n",
    "        new_state = get_state(new_observation)\n",
    "\n",
    "        error = Q[state][action] - (reward + gamma * np.max(Q[new_state]))\n",
    "        Q[state][action] -= alpha * error\n",
    "            \n",
    "            \n",
    "        step_sum += 1\n",
    "        reward_sum += reward\n",
    "\n",
    "        state = new_state\n",
    "\n",
    "        if terminated:\n",
    "            break\n",
    "\n",
    "    if record:\n",
    "        save_video(env.render(), \"videos\", fps=env.metadata[\"render_fps\"],\n",
    "                   step_starting_index=step_sum,\n",
    "                   episode_index=episode)\n",
    "        env = gym.make('MountainCar-v0')\n",
    "\n",
    "    if episode % 100 == 0: print(np.average(rewards[-100:]))\n",
    "    rewards.append(reward_sum)"
   ]
  },
  {
   "cell_type": "code",
   "execution_count": null,
   "metadata": {},
   "outputs": [],
   "source": [
    "plt.plot(rewards)"
   ]
  },
  {
   "cell_type": "code",
   "execution_count": null,
   "metadata": {},
   "outputs": [],
   "source": [
    "plt.imshow(np.max(Q, axis=2))"
   ]
  },
  {
   "cell_type": "code",
   "execution_count": null,
   "metadata": {},
   "outputs": [],
   "source": [
    "plt.imshow(np.argmax(Q, axis=2))"
   ]
  }
 ],
 "metadata": {
  "kernelspec": {
   "display_name": "Python 3",
   "language": "python",
   "name": "python3"
  },
  "language_info": {
   "codemirror_mode": {
    "name": "ipython",
    "version": 3
   },
   "file_extension": ".py",
   "mimetype": "text/x-python",
   "name": "python",
   "nbconvert_exporter": "python",
   "pygments_lexer": "ipython3",
   "version": "3.10.4"
  },
  "orig_nbformat": 4
 },
 "nbformat": 4,
 "nbformat_minor": 2
}
